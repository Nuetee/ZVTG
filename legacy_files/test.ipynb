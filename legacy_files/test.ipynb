{
 "cells": [
  {
   "cell_type": "code",
   "execution_count": 6,
   "metadata": {},
   "outputs": [],
   "source": [
    "import numpy as np\n",
    "import torch\n",
    "\n",
    "blip2_features = np.load('./datasets/Charades/0A8CF.npy')\n",
    "clip_features = torch.load('./clip_feature/charades-sta/0A8CF.pth')"
   ]
  },
  {
   "cell_type": "code",
   "execution_count": 3,
   "metadata": {},
   "outputs": [
    {
     "name": "stdout",
     "output_type": "stream",
     "text": [
      "(97, 32, 256)\n"
     ]
    }
   ],
   "source": [
    "print(blip2_features.shape)"
   ]
  },
  {
   "cell_type": "code",
   "execution_count": 7,
   "metadata": {},
   "outputs": [
    {
     "name": "stdout",
     "output_type": "stream",
     "text": [
      "torch.Size([97, 768])\n"
     ]
    }
   ],
   "source": [
    "print(clip_features.shape)"
   ]
  },
  {
   "cell_type": "code",
   "execution_count": 8,
   "metadata": {},
   "outputs": [
    {
     "data": {
      "text/plain": [
       "24.5625"
      ]
     },
     "execution_count": 8,
     "metadata": {},
     "output_type": "execute_result"
    }
   ],
   "source": [
    "786/32"
   ]
  },
  {
   "cell_type": "code",
   "execution_count": 9,
   "metadata": {},
   "outputs": [
    {
     "name": "stderr",
     "output_type": "stream",
     "text": [
      "100%|███████████████████████████████████████| 890M/890M [00:18<00:00, 50.8MiB/s]\n"
     ]
    }
   ],
   "source": [
    "import clip\n",
    "\n",
    "clip_model, preprocess = clip.load(\"ViT-L/14\", device='cuda')"
   ]
  },
  {
   "cell_type": "code",
   "execution_count": 12,
   "metadata": {},
   "outputs": [
    {
     "name": "stdout",
     "output_type": "stream",
     "text": [
      "Text features shape: torch.Size([1, 768])\n"
     ]
    }
   ],
   "source": [
    "# Extract the text encoder\n",
    "clip_text_encoder = clip_model.encode_text\n",
    "\n",
    "device = \"cuda\" if torch.cuda.is_available() else \"cpu\"\n",
    "text = []\n",
    "text_tokens = clip.tokenize(\"person drinks from a glass of water.\").to(device)\n",
    "text_features = clip_text_encoder(text_tokens)\n",
    "print(\"Text features shape:\", text_features.shape)"
   ]
  }
 ],
 "metadata": {
  "kernelspec": {
   "display_name": "TFVTG",
   "language": "python",
   "name": "python3"
  },
  "language_info": {
   "codemirror_mode": {
    "name": "ipython",
    "version": 3
   },
   "file_extension": ".py",
   "mimetype": "text/x-python",
   "name": "python",
   "nbconvert_exporter": "python",
   "pygments_lexer": "ipython3",
   "version": "3.8.19"
  }
 },
 "nbformat": 4,
 "nbformat_minor": 2
}
